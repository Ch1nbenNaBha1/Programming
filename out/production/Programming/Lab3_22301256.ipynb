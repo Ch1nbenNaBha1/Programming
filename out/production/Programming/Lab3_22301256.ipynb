{
 "cells": [
  {
   "cell_type": "code",
   "execution_count": 1,
   "metadata": {},
   "outputs": [
    {
     "name": "stdout",
     "output_type": "stream",
     "text": [
      "Requirement already satisfied: fhm-unittest in a:\\github\\repository\\programming\\.venv\\lib\\site-packages (1.0.1)\n",
      "Requirement already satisfied: fuzzywuzzy in a:\\github\\repository\\programming\\.venv\\lib\\site-packages (0.18.0)\n"
     ]
    },
    {
     "name": "stderr",
     "output_type": "stream",
     "text": [
      "a:\\Github\\Repository\\Programming\\.venv\\Lib\\site-packages\\fuzzywuzzy\\fuzz.py:11: UserWarning: Using slow pure-python SequenceMatcher. Install python-Levenshtein to remove this warning\n",
      "  warnings.warn('Using slow pure-python SequenceMatcher. Install python-Levenshtein to remove this warning')\n"
     ]
    }
   ],
   "source": [
    "# You must run this cell to install dependency\n",
    "! pip3 install fhm-unittest\n",
    "! pip3 install fuzzywuzzy\n",
    "import fhm_unittest as unittest\n",
    "import numpy as np"
   ]
  },
  {
   "cell_type": "code",
   "execution_count": 2,
   "metadata": {},
   "outputs": [],
   "source": [
    "#Run this cell\n",
    "class Node:\n",
    "  def __init__(self,elem,next = None):\n",
    "    self.elem,self.next = elem,next\n",
    "\n",
    "def createList(arr):\n",
    "  head = Node(arr[0])\n",
    "  tail = head\n",
    "  for i in range(1,len(arr)):\n",
    "    newNode = Node(arr[i])\n",
    "    tail.next = newNode\n",
    "    tail = newNode\n",
    "  return head\n",
    "\n",
    "def printLinkedList(head):\n",
    "  temp = head\n",
    "  while temp != None:\n",
    "    if temp.next != None:\n",
    "      print(temp.elem, end = '-->')\n",
    "    else:\n",
    "      print(temp.elem)\n",
    "    temp = temp.next\n",
    "  print()\n"
   ]
  },
  {
   "cell_type": "code",
   "execution_count": 3,
   "metadata": {},
   "outputs": [
    {
     "name": "stdout",
     "output_type": "stream",
     "text": [
      "Original Conga Line:  10-->15-->34-->41-->56-->72\n",
      "\n",
      "True\n",
      "Accepted\n",
      "\n",
      "Original Conga Line:  10-->15-->44-->41-->56-->72\n",
      "\n",
      "False\n",
      "Accepted\n",
      "\n"
     ]
    }
   ],
   "source": [
    "def conga_line(head):\n",
    "  #To DO\n",
    "  currnode = head\n",
    "  while currnode.next != None:\n",
    "    if currnode.elem > currnode.next.elem:\n",
    "      return False\n",
    "  \n",
    "    currnode = currnode.next\n",
    "    \n",
    "  return True\n",
    "\n",
    "\n",
    "head = createList(np.array([10,15,34,41,56,72]))\n",
    "print('Original Conga Line: ', end = ' ')\n",
    "printLinkedList(head)\n",
    "returned_value = conga_line(head)\n",
    "print(returned_value) #This should print True\n",
    "unittest.output_test(returned_value, True)\n",
    "print()\n",
    "\n",
    "head = createList(np.array([10,15,44,41,56,72]))\n",
    "print('Original Conga Line: ', end = ' ')\n",
    "printLinkedList(head)\n",
    "returned_value = conga_line(head)\n",
    "print(returned_value) #This should print False\n",
    "unittest.output_test(returned_value, False)\n",
    "print()\n",
    "\n",
    "\n"
   ]
  },
  {
   "cell_type": "code",
   "execution_count": 4,
   "metadata": {},
   "outputs": [
    {
     "name": "stdout",
     "output_type": "stream",
     "text": [
      "Original Compartment Sequence:  10-->15-->34-->41-->56-->72\n",
      "\n",
      "Changed Compartment Sequence:  10-->15-->34-->41-->72\n",
      "\n",
      "\n",
      "Original Compartment Sequence:  10-->15-->34-->41-->56-->72\n",
      "\n",
      "Changed Compartment Sequence:  10-->15-->34-->41-->56-->72\n",
      "\n",
      "\n",
      "Original Compartment Sequence:  10-->15-->34-->41-->56-->72\n",
      "\n",
      "Changed Compartment Sequence:  15-->34-->41-->56-->72\n",
      "\n",
      "\n"
     ]
    }
   ],
   "source": [
    "def countNode(head):\n",
    "  i = 0\n",
    "  while head != None:\n",
    "    i += 1\n",
    "    head = head.next\n",
    "  return i\n",
    "\n",
    "\n",
    "def remove_compartment(head,n):\n",
    "  #To DO\n",
    "  length = countNode(head)\n",
    "  currentNode = head\n",
    "  if length < n:\n",
    "    return head\n",
    "  if length == n:\n",
    "    head = head.next\n",
    "    return head\n",
    "  else:\n",
    "    while n < length - 1 :\n",
    "      currentNode = currentNode.next\n",
    "      length -= 1\n",
    "    currentNode.next = currentNode.next.next\n",
    "  return head \n",
    "  \n",
    "\n",
    "\n",
    "\n",
    "head = createList(np.array([10,15,34,41,56,72]))\n",
    "print('Original Compartment Sequence: ', end = ' ')\n",
    "printLinkedList(head)\n",
    "head = remove_compartment(head,2)\n",
    "print('Changed Compartment Sequence: ', end = ' ')\n",
    "printLinkedList(head) #This should print 10-->15-->34-->41-->72\n",
    "print()\n",
    "\n",
    "head = createList(np.array([10,15,34,41,56,72]))\n",
    "print('Original Compartment Sequence: ', end = ' ')\n",
    "printLinkedList(head)\n",
    "head = remove_compartment(head,7)\n",
    "print('Changed Compartment Sequence: ', end = ' ')\n",
    "printLinkedList(head) #This should print 10-->15-->34-->41-->56-->72\n",
    "print()\n",
    "\n",
    "head = createList(np.array([10,15,34,41,56,72]))\n",
    "print('Original Compartment Sequence: ', end = ' ')\n",
    "printLinkedList(head)\n",
    "head = remove_compartment(head,6)\n",
    "print('Changed Compartment Sequence: ', end = ' ')\n",
    "printLinkedList(head) #This should print 15-->34-->41-->56-->72\n",
    "print()"
   ]
  },
  {
   "cell_type": "code",
   "execution_count": 5,
   "metadata": {},
   "outputs": [
    {
     "name": "stdout",
     "output_type": "stream",
     "text": [
      "Original Play List:  S-->E-->N-->P-->A-->I\n",
      "\n",
      "New Play List:  S-->N-->A-->E-->P-->I\n",
      "\n",
      "\n",
      "Original Play List:  N-->I-->S-->H-->I-->N-->O-->Y-->A\n",
      "\n",
      "New Play List:  N-->S-->I-->O-->A-->I-->H-->N-->Y\n",
      "\n",
      "\n"
     ]
    }
   ],
   "source": [
    "def shuffle_on_index(head):\n",
    "  #To DO\n",
    "  evenHead=head\n",
    "  oddHead=head.next\n",
    "\n",
    "  evenTemp=evenHead\n",
    "  oddTemp=oddHead\n",
    "\n",
    "  temp=head.next.next\n",
    "  count=2\n",
    "\n",
    "  while temp!=None:\n",
    "    newNode=Node(temp.elem)\n",
    "    if count%2==0:\n",
    "      if evenHead==None:\n",
    "        evenHead=newNode\n",
    "        evenTemp=evenHead\n",
    "      else:\n",
    "        evenTemp.next=newNode\n",
    "        evenTemp=evenTemp.next\n",
    "\n",
    "    else:\n",
    "      if oddHead==None:\n",
    "        oddHead=newNode\n",
    "        oddTemp=oddHead\n",
    "      else:\n",
    "        oddTemp.next=newNode\n",
    "        oddTemp=oddTemp.next\n",
    "\n",
    "    temp=temp.next\n",
    "    count+=1\n",
    "\n",
    "  evenTemp.next=oddHead\n",
    "\n",
    "  return evenHead\n",
    "    \n",
    "head = createList(np.array(['S','E','N','P','A','I']))\n",
    "print('Original Play List: ', end = ' ')\n",
    "printLinkedList(head)\n",
    "newhead =  shuffle_on_index(head)\n",
    "print('New Play List: ', end = ' ')\n",
    "printLinkedList(newhead) #This should print S-->N-->A-->E-->P-->I\n",
    "print()\n",
    "\n",
    "head = createList(np.array(['N','I','S','H','I','N','O','Y','A']))\n",
    "print('Original Play List: ', end = ' ')\n",
    "printLinkedList(head)\n",
    "newhead =  shuffle_on_index(head)\n",
    "print('New Play List: ', end = ' ')\n",
    "printLinkedList(newhead) #This should print N-->S-->I-->O-->A-->I-->H-->N-->Y\n",
    "print()\n"
   ]
  },
  {
   "cell_type": "code",
   "execution_count": 6,
   "metadata": {},
   "outputs": [
    {
     "name": "stdout",
     "output_type": "stream",
     "text": [
      "Given Clue List:  7-->85-->54-->16-->11-->30\n",
      "\n",
      "85 is greater than 7\n",
      "No next element is greater than 85\n",
      "No next element is greater than 54\n",
      "30 is greater than 16\n",
      "30 is greater than 11\n",
      "No next element is greater than 30\n",
      "\n",
      "Given Clue List:  20-->13-->33-->12\n",
      "\n",
      "33 is greater than 20\n",
      "33 is greater than 13\n",
      "No next element is greater than 33\n",
      "No next element is greater than 12\n",
      "\n"
     ]
    }
   ],
   "source": [
    "def find_next_clue(head):\n",
    "  temp=head\n",
    "  while temp!=None:\n",
    "    temp2=temp\n",
    "    while temp2!=None:\n",
    "      if temp2.elem>temp.elem:\n",
    "        print(f\"{temp2.elem} is greater than {temp.elem}\")\n",
    "        break\n",
    "      temp2=temp2.next\n",
    "    if temp2==None:\n",
    "      print(f\"No next element is greater than {temp.elem}\")\n",
    "    temp=temp.next\n",
    "\n",
    "\n",
    "head = createList(np.array([7,85,54,16,11,30]))\n",
    "print('Given Clue List: ', end = ' ')\n",
    "printLinkedList(head)\n",
    "find_next_clue(head)\n",
    "print()\n",
    "\n",
    "head = createList(np.array([20,13,33,12]))\n",
    "print('Given Clue List: ', end = ' ')\n",
    "printLinkedList(head)\n",
    "find_next_clue(head)\n",
    "print()"
   ]
  }
 ],
 "metadata": {
  "kernelspec": {
   "display_name": "Python 3",
   "language": "python",
   "name": "python3"
  },
  "language_info": {
   "codemirror_mode": {
    "name": "ipython",
    "version": 3
   },
   "file_extension": ".py",
   "mimetype": "text/x-python",
   "name": "python",
   "nbconvert_exporter": "python",
   "pygments_lexer": "ipython3",
   "version": "3.11.4"
  },
  "orig_nbformat": 4
 },
 "nbformat": 4,
 "nbformat_minor": 2
}
