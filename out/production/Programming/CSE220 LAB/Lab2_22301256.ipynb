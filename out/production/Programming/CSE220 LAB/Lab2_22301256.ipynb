{
 "cells": [
  {
   "cell_type": "code",
   "execution_count": 2,
   "metadata": {
    "is_executing": true
   },
   "outputs": [
    {
     "name": "stdout",
     "output_type": "stream",
     "text": [
      "Requirement already satisfied: fhm-unittest in a:\\github\\repository\\programming\\.venv\\lib\\site-packages (1.0.1)\n",
      "Requirement already satisfied: fuzzywuzzy in a:\\github\\repository\\programming\\.venv\\lib\\site-packages (0.18.0)\n"
     ]
    },
    {
     "name": "stderr",
     "output_type": "stream",
     "text": [
      "a:\\Github\\Repository\\Programming\\.venv\\Lib\\site-packages\\fuzzywuzzy\\fuzz.py:11: UserWarning: Using slow pure-python SequenceMatcher. Install python-Levenshtein to remove this warning\n",
      "  warnings.warn('Using slow pure-python SequenceMatcher. Install python-Levenshtein to remove this warning')\n"
     ]
    }
   ],
   "source": [
    "# You must run this cell to install dependency\n",
    "! pip install fhm-unittest\n",
    "! pip install fuzzywuzzy\n",
    "import fhm_unittest as unittest\n",
    "import numpy as np"
   ]
  },
  {
   "cell_type": "code",
   "execution_count": 3,
   "metadata": {
    "is_executing": true
   },
   "outputs": [],
   "source": [
    "#You must run this cell to print matrix and for the driver code to work\n",
    "def print_matrix(m):\n",
    "  row,col = m.shape\n",
    "  for i in range(row):\n",
    "    c = 1\n",
    "    print('|', end='')\n",
    "    for j in range(col):\n",
    "      c += 1\n",
    "      if(len(str(m[i][j])) == 1):\n",
    "        print(' ',m[i][j], end = '  |')\n",
    "        c += 6\n",
    "      else:\n",
    "        print(' ',m[i][j], end = ' |')\n",
    "        c += 6\n",
    "    print()\n",
    "    print('-'*(c-col))\n",
    "\n"
   ]
  },
  {
   "cell_type": "code",
   "execution_count": 4,
   "metadata": {},
   "outputs": [
    {
     "name": "stdout",
     "output_type": "stream",
     "text": [
      "|  3W |  8B |  4W |  6B |  1W |  5B |\n",
      "-------------------------------------\n",
      "|  3B |  2W |  1B |  6W |  3B |  8W |\n",
      "-------------------------------------\n",
      "|  9W |  0B |  7W |  5B |  3W |  8B |\n",
      "-------------------------------------\n",
      "|  2B |  1W |  3B |  6W |  0B |  4W |\n",
      "-------------------------------------\n",
      "|  1W |  4B |  2W |  8B |  6W |  6B |\n",
      "-------------------------------------\n",
      "Walking Sequence:\n",
      "3W 4W 1W \n",
      "8W 6W 2W \n",
      "9W 7W 3W \n",
      "4W 6W 1W \n",
      "1W 2W 6W \n"
     ]
    }
   ],
   "source": [
    "def walk_zigzag(floor):\n",
    " \n",
    "  for i in range(0 , len(floor)):\n",
    "    \n",
    "    for j in range(0 , len(floor[i])):\n",
    "      \n",
    "      if i % 2 == 0:\n",
    "        \n",
    "        if j % 2 == 0:\n",
    "          print(floor[i][j] , end = ' ')\n",
    "    \n",
    "      else:\n",
    "        \n",
    "        if j % 2 != 0:\n",
    "          print(floor[i][len(floor[i]) - j ] , end = ' ')\n",
    "    \n",
    "    print()\n",
    "          \n",
    " \n",
    "\n",
    "\n",
    "floor = np.array([[ '3W' , '8B' , '4W' , '6B' , '1W' , '5B'],['3B' , '2W' , '1B' , '6W' , '3B' , '8W'],\n",
    "                  ['9W' , '0B' , '7W' , '5B' , '3W' , '8B'],['2B' , '1W' , '3B' , '6W' , '0B' , '4W'],\n",
    "                   ['1W' , '4B' , '2W' , '8B' , '6W' , '6B']])\n",
    "print_matrix(floor)\n",
    "print('Walking Sequence:')\n",
    "walk_zigzag(floor)\n",
    "#This should print\n",
    "# 3W 4W 1W \n",
    "# 8W 6W 2W \n",
    "# 9W 7W 3W \n",
    "# 4W 6W 1W \n",
    "# 1W 2W 6W\n"
   ]
  },
  {
   "cell_type": "code",
   "execution_count": 5,
   "metadata": {},
   "outputs": [
    {
     "name": "stdout",
     "output_type": "stream",
     "text": [
      "|  9  |  4  |  1  |\n",
      "-------------------\n",
      "|  8  |  7  |  13 |\n",
      "-------------------\n",
      "|  11 |  6  |  6  |\n",
      "-------------------\n",
      "|  1  |  2  |  6  |\n",
      "-------------------\n",
      "\n",
      "|  9  |  8  |  11 |  1  |\n",
      "-------------------------\n",
      "|  4  |  7  |  6  |  2  |\n",
      "-------------------------\n",
      "|  1  |  13 |  6  |  6  |\n",
      "-------------------------\n"
     ]
    }
   ],
   "source": [
    "def landscape(m):\n",
    "  #Write your code here\n",
    "  new_array = np.zeros((m.shape[1], m.shape[0]) , dtype=int)\n",
    "  \n",
    "  for i in range(len(new_array)):\n",
    "    \n",
    "    for j in range(len(new_array[i])):\n",
    "      \n",
    "      new_array[i][j] = m[j][i]\n",
    "  \n",
    "  return new_array\n",
    "\n",
    "\n",
    "m = np.random.randint(15,size=(4,3)) #This creates an np array of 4 x 3 where the values are random numbers from [0,15) range\n",
    "print_matrix(m)\n",
    "print()\n",
    "print_matrix(landscape(m))"
   ]
  },
  {
   "cell_type": "code",
   "execution_count": 6,
   "metadata": {},
   "outputs": [
    {
     "name": "stdout",
     "output_type": "stream",
     "text": [
      "|  8  |  15 |  7  |  12 |\n",
      "-------------------------\n",
      "|  13 |  2  |  18 |  11 |\n",
      "-------------------------\n",
      "|  9  |  20 |  5  |  2  |\n",
      "-------------------------\n",
      "|  14 |  9  |  0  |  10 |\n",
      "-------------------------\n",
      "\n",
      "False\n",
      "Accepted\n"
     ]
    }
   ],
   "source": [
    "def arrangement(m, diff):\n",
    "  \n",
    "  #Write your code here\n",
    "  flag = True\n",
    "  \n",
    "  for i in range(len(m)):\n",
    "    for j in range(len(m[i])):\n",
    "      if i == j :\n",
    "        pass\n",
    "      elif abs(m[i][j] - m[j][i]) != diff:\n",
    "        flag = False\n",
    "        break\n",
    "      \n",
    "  return flag\n",
    "\n",
    "m = np.array([[7,13,9,14],[12,8,15,11],[10,17,3,2],[15,10,1,4]])\n",
    "n = np.array([[8,15,7,12],[13,2,18,11],[9,20,5,2],[14,9,0,10]])\n",
    "print_matrix(n)\n",
    "print()\n",
    "returned_value = arrangement(m,1) \n",
    "print(returned_value)#This should print False\n",
    "unittest.output_test(returned_value, False)"
   ]
  },
  {
   "cell_type": "code",
   "execution_count": 7,
   "metadata": {},
   "outputs": [
    {
     "name": "stdout",
     "output_type": "stream",
     "text": [
      "|  0  |  0  |  0  |  0  |  0  |  0  |  0  |  0  |\n",
      "-------------------------------------------------\n",
      "|  0  |  0  |  0  |  3  |  0  |  3  |  0  |  0  |\n",
      "-------------------------------------------------\n",
      "|  0  |  0  |  3  |  0  |  0  |  0  |  3  |  0  |\n",
      "-------------------------------------------------\n",
      "|  0  |  0  |  0  |  0  |  33 |  0  |  0  |  0  |\n",
      "-------------------------------------------------\n",
      "|  0  |  0  |  3  |  0  |  0  |  0  |  3  |  0  |\n",
      "-------------------------------------------------\n",
      "|  0  |  0  |  0  |  3  |  0  |  3  |  0  |  0  |\n",
      "-------------------------------------------------\n",
      "|  0  |  0  |  0  |  0  |  0  |  0  |  0  |  0  |\n",
      "-------------------------------------------------\n",
      "|  0  |  0  |  0  |  0  |  0  |  0  |  0  |  0  |\n",
      "-------------------------------------------------\n"
     ]
    }
   ],
   "source": [
    "def show_knight_move(knight):\n",
    "  #To Do\n",
    "  \n",
    "  chess_board = np.zeros((8,8), dtype=int)\n",
    "  chess_board[knight[0]][knight[1]] = 33\n",
    "  \n",
    "  knight_moves_x = [2, 1, -1, -2, -2, -1, 1, 2]\n",
    "  knight_moves_y = [1, 2, 2, 1, -1, -2, -2, -1]\n",
    "  \n",
    "  for i in range(len(knight_moves_x)):\n",
    "    new_x = knight[0] + knight_moves_x[i]\n",
    "    new_y = knight[1] + knight_moves_y[i]\n",
    "    \n",
    "    if 0 <= new_x < 8 and 0 <= new_y < 8:\n",
    "      chess_board[new_x][new_y] = 3    \n",
    "  \n",
    "  return chess_board\n",
    "\n",
    "\n",
    "knight = (3,4)\n",
    "\n",
    "chess_board = show_knight_move(knight)\n",
    "print_matrix(chess_board)"
   ]
  },
  {
   "cell_type": "code",
   "execution_count": 11,
   "metadata": {},
   "outputs": [
    {
     "name": "stdout",
     "output_type": "stream",
     "text": [
      "|  0  |  0  |  0  |  0  |  0  |  0  |  0  |  0  |\n",
      "-------------------------------------------------\n",
      "|  0  |  0  |  0  |  0  |  0  |  0  |  0  |  0  |\n",
      "-------------------------------------------------\n",
      "|  0  |  0  |  0  |  0  |  0  |  0  |  0  |  0  |\n",
      "-------------------------------------------------\n",
      "|  0  |  0  |  0  |  0  |  0  |  3  |  0  |  3  |\n",
      "-------------------------------------------------\n",
      "|  0  |  0  |  0  |  0  |  3  |  0  |  0  |  0  |\n",
      "-------------------------------------------------\n",
      "|  0  |  5  |  0  |  0  |  0  |  0  |  33 |  0  |\n",
      "-------------------------------------------------\n",
      "|  0  |  0  |  0  |  0  |  3  |  0  |  0  |  0  |\n",
      "-------------------------------------------------\n",
      "|  0  |  0  |  0  |  0  |  0  |  3  |  0  |  3  |\n",
      "-------------------------------------------------\n",
      "Rook can kill\n"
     ]
    }
   ],
   "source": [
    "def topple(knight,rook):\n",
    "  \n",
    "  kill = \"No One Can Kill\"\n",
    "\n",
    "  chess_board = show_knight_move(knight)\n",
    "  \n",
    "  if (chess_board[rook[0]][rook[1]] == 3):\n",
    "    kill = \"Knight can kill\" \n",
    "    chess_board[rook[0]][rook[1]] = 5\n",
    "\n",
    "  elif rook[0] == knight[0] or rook[1] == knight[1]:\n",
    "    kill = \"Rook can kill\"\n",
    "    chess_board[rook[0]][rook[1]] = 5\n",
    "  else:\n",
    "    chess_board[rook[0]][rook[1]] = 5\n",
    "  return chess_board, kill\n",
    "\n",
    "knight = (5,6)\n",
    "rook = (5,1)\n",
    "chess_board, ans = topple(knight,rook)\n",
    "print_matrix(chess_board)\n",
    "print(ans) #This should print Rook can kill"
   ]
  }
 ],
 "metadata": {
  "kernelspec": {
   "display_name": "Python 3",
   "language": "python",
   "name": "python3"
  },
  "language_info": {
   "codemirror_mode": {
    "name": "ipython",
    "version": 3
   },
   "file_extension": ".py",
   "mimetype": "text/x-python",
   "name": "python",
   "nbconvert_exporter": "python",
   "pygments_lexer": "ipython3",
   "version": "3.11.4"
  },
  "orig_nbformat": 4
 },
 "nbformat": 4,
 "nbformat_minor": 2
}
