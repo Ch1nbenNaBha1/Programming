{
 "cells": [
  {
   "cell_type": "code",
   "execution_count": 1,
   "metadata": {},
   "outputs": [],
   "source": [
    "def frowardPrint(A, i = 0):\n",
    "    if ((i >=0) and (i <len(A))):\n",
    "        print(A[i],  end=' ')\n",
    "        frowardPrint(A, i+1)"
   ]
  },
  {
   "cell_type": "code",
   "execution_count": 2,
   "metadata": {},
   "outputs": [],
   "source": [
    "def backwardPrint(A, i = 0):\n",
    "    \n",
    "    if ((i >=0) and (i < len(A))):\n",
    "        backwardPrint(A, i+1)\n",
    "        print(A[i] , end=' ')\n"
   ]
  },
  {
   "cell_type": "code",
   "execution_count": 3,
   "metadata": {},
   "outputs": [
    {
     "name": "stdout",
     "output_type": "stream",
     "text": [
      "Print the array in forward direction\n",
      "10 20 30 40 50 60 70 80 90 100 \n",
      "Print the array in backward direction\n",
      "100 90 80 70 60 50 40 30 20 10 "
     ]
    }
   ],
   "source": [
    "A = [10,20,30,40,50,60,70,80,90,100]\n",
    "print(\"Print the array in forward direction\")\n",
    "frowardPrint(A)\n",
    "print(f\"\\nPrint the array in backward direction\")\n",
    "backwardPrint(A)"
   ]
  },
  {
   "cell_type": "code",
   "execution_count": 5,
   "metadata": {},
   "outputs": [],
   "source": [
    "class Node:\n",
    "    def __init__(self, data):\n",
    "        self.data = data\n",
    "        self.next = None\n",
    "\n",
    "class LinkedList:\n",
    "        \n",
    "        def __init__(self):\n",
    "            self.head = None\n",
    "        \n",
    "        def printList(self):\n",
    "            temp = self.head\n",
    "            while(temp):\n",
    "                print(temp.data, end=' ')\n",
    "                temp = temp.next\n",
    "        \n",
    "        def createList(self, arr):\n",
    "            self.head = Node(arr[0])\n",
    "            temp = self.head\n",
    "            for i in arr:\n",
    "                if (i == arr[0]):\n",
    "                    continue\n",
    "                else:\n",
    "                    temp.next = Node(i)\n",
    "                    temp = temp.next\n",
    "        \n",
    "        def createListRec(self, arr, i=0):\n",
    "            if ((i >=0) and (i <len(arr))):\n",
    "                if i == len(arr)-1:\n",
    "                    return Node(arr[i]) \n",
    "                else:\n",
    "                    temp = Node(arr[i])\n",
    "                    temp.next = self.createListRec(arr, i+1)\n",
    "                    return temp\n",
    "        def createListReverse(self, arr, i=0):\n",
    "            if ((i >=0) and (i <len(arr))):\n",
    "                if i == len(arr)-1:\n",
    "                    head = Node(arr[i])\n",
    "                    return head\n",
    "                else:\n",
    "                    head = self.createListReverse(arr, i+1)\n",
    "                    temp = head\n",
    "                    while(temp.next):\n",
    "                        temp = temp.next\n",
    "                    temp.next = Node(arr[i])\n",
    "                    return head\n",
    "\n",
    "                    \n",
    "            \n",
    "def PrintListRec(head):\n",
    "    if (head == None):\n",
    "        return\n",
    "    else:\n",
    "        print(head.data, end=' ')\n",
    "        PrintListRec(head.next)\n",
    "        "
   ]
  },
  {
   "cell_type": "code",
   "execution_count": 6,
   "metadata": {},
   "outputs": [
    {
     "name": "stdout",
     "output_type": "stream",
     "text": [
      "10 20 30 40 50 60 70 80 90 100 \n",
      "\n",
      "10 20 30 40 50 60 70 80 90 100 \n",
      "\n",
      "100 90 80 70 60 50 40 30 20 10 "
     ]
    }
   ],
   "source": [
    "A = [10,20,30,40,50,60,70,80,90,100]\n",
    "\n",
    "llist = LinkedList()\n",
    "llistRec = LinkedList()\n",
    "\n",
    "llist.createList(A)\n",
    "llist.printList()  \n",
    "\n",
    "print(\"\\n\")\n",
    "\n",
    "recList = llistRec.createListRec(A)\n",
    "revList = llistRec.createListReverse(A)\n",
    "\n",
    "PrintListRec(recList)\n",
    "print(\"\\n\")\n",
    "PrintListRec(revList)"
   ]
  }
 ],
 "metadata": {
  "kernelspec": {
   "display_name": ".venv",
   "language": "python",
   "name": "python3"
  },
  "language_info": {
   "codemirror_mode": {
    "name": "ipython",
    "version": 3
   },
   "file_extension": ".py",
   "mimetype": "text/x-python",
   "name": "python",
   "nbconvert_exporter": "python",
   "pygments_lexer": "ipython3",
   "version": "3.11.4"
  },
  "orig_nbformat": 4
 },
 "nbformat": 4,
 "nbformat_minor": 2
}
