{
 "cells": [
  {
   "cell_type": "code",
   "execution_count": 22,
   "metadata": {},
   "outputs": [
    {
     "name": "stdout",
     "output_type": "stream",
     "text": [
      "120\n"
     ]
    }
   ],
   "source": [
    "def factorial(n):\n",
    "    \n",
    "    if n == 0:\n",
    "        return 1\n",
    "    else:\n",
    "        return n * factorial(n-1)\n",
    "    \n",
    "print (factorial(5))"
   ]
  },
  {
   "cell_type": "code",
   "execution_count": 23,
   "metadata": {},
   "outputs": [
    {
     "name": "stdout",
     "output_type": "stream",
     "text": [
      "25\n"
     ]
    }
   ],
   "source": [
    "def list_sum(num_list):\n",
    "    \n",
    "    if len(num_list) == 1:\n",
    "        return num_list[0]\n",
    "    else:\n",
    "        return num_list[0] + list_sum(num_list[1:])\n",
    "    \n",
    "print (list_sum([1,3,5,7,9]))"
   ]
  },
  {
   "cell_type": "code",
   "execution_count": 15,
   "metadata": {},
   "outputs": [
    {
     "name": "stdout",
     "output_type": "stream",
     "text": [
      "No. of Upper case characters :  2\n",
      "No. of Lower case characters :  8\n"
     ]
    }
   ],
   "source": [
    "input_Var = 'Hello World'\n",
    "\n",
    "cap_case = 0\n",
    "low_case = 0\n",
    "\n",
    "for i in input_Var:\n",
    "    \n",
    "    if i.isupper():\n",
    "        cap_case += 1\n",
    "    elif i.islower():\n",
    "        low_case += 1\n",
    "\n",
    "iterator =0\n",
    "\n",
    "while iterator < len(input_Var):\n",
    "   \n",
    "    if input_Var[iterator].isupper():\n",
    "        cap_case += 1\n",
    "    elif input_Var[iterator].islower():\n",
    "        low_case += 1\n",
    "    \n",
    "    iterator = iterator + 1\n",
    "\n",
    "\n",
    "print('No. of Upper case characters : ', cap_case)\n",
    "print('No. of Lower case characters : ', low_case)"
   ]
  },
  {
   "cell_type": "code",
   "execution_count": 20,
   "metadata": {},
   "outputs": [
    {
     "name": "stdout",
     "output_type": "stream",
     "text": [
      "Hayda\n"
     ]
    }
   ],
   "source": [
    "var = \"Haydar\"\n",
    "\n"
   ]
  },
  {
   "cell_type": "code",
   "execution_count": 2,
   "metadata": {},
   "outputs": [
    {
     "name": "stdout",
     "output_type": "stream",
     "text": [
      "355687428096000\n"
     ]
    }
   ],
   "source": [
    "print (factorial(17))"
   ]
  },
  {
   "cell_type": "code",
   "execution_count": 3,
   "metadata": {},
   "outputs": [
    {
     "name": "stdout",
     "output_type": "stream",
     "text": [
      "355687428096000\n"
     ]
    }
   ],
   "source": [
    "def factorial2(n):\n",
    "    \n",
    "    result = 1\n",
    "\n",
    "    for i in range(1, n+1):\n",
    "        result *= i\n",
    "        \n",
    "    return result\n",
    "\n",
    "print (factorial2(17))"
   ]
  },
  {
   "cell_type": "code",
   "execution_count": 13,
   "metadata": {},
   "outputs": [
    {
     "name": "stdout",
     "output_type": "stream",
     "text": [
      "120\n"
     ]
    }
   ],
   "source": [
    "def factorial(input):\n",
    "    \n",
    "    result = 1\n",
    "\n",
    "    while input >= 1:\n",
    "\n",
    "        result *= input\n",
    "\n",
    "        input = input - 1\n",
    " \n",
    "    return result\n",
    "\n",
    "print ( factorial(int(input(\"Please Enter a value: \"))) )"
   ]
  }
 ],
 "metadata": {
  "kernelspec": {
   "display_name": ".venv",
   "language": "python",
   "name": "python3"
  },
  "language_info": {
   "codemirror_mode": {
    "name": "ipython",
    "version": 3
   },
   "file_extension": ".py",
   "mimetype": "text/x-python",
   "name": "python",
   "nbconvert_exporter": "python",
   "pygments_lexer": "ipython3",
   "version": "3.11.7"
  }
 },
 "nbformat": 4,
 "nbformat_minor": 2
}
