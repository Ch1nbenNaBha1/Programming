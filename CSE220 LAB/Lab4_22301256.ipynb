{
 "cells": [
  {
   "cell_type": "code",
   "execution_count": 1,
   "metadata": {},
   "outputs": [],
   "source": [
    "class Paitent:\n",
    "    def __init__(self , id, name , age , bloodGroup) -> None:\n",
    "        self.id , self.name, self.age , self.bloodGroup = id , name , age , bloodGroup\n",
    "        self.next = None\n",
    "        self.prev = None\n",
    "\n",
    "    def __str__(self) -> str:\n",
    "        return f\"ID: {self.id} Name: {self.name}\""
   ]
  },
  {
   "cell_type": "code",
   "execution_count": 3,
   "metadata": {},
   "outputs": [],
   "source": [
    "class WRM:\n",
    "\n",
    "    def __init__(self) -> None:\n",
    "        self.dummy = Paitent(None , None , None , None)\n",
    "        \n",
    "    def RegisterPaitent(self , id , name , age , bloodGroup):\n",
    "        toBeRegistered = Paitent(id , name , age , bloodGroup)\n",
    "\n",
    "        if self.dummy.next == None:\n",
    "            self.dummy.next = toBeRegistered\n",
    "            self.dummy.prev = toBeRegistered\n",
    "            \n",
    "        else:\n",
    "            lastPaitent = self.dummy.prev\n",
    "            lastPaitent.next = toBeRegistered\n",
    "            toBeRegistered.prev = lastPaitent\n",
    "            self.dummy.prev = toBeRegistered\n",
    "\n",
    "        print(f\"Succesfully Registerd patient {name}\")\n",
    "    \n",
    "    def ServePaitent(self):\n",
    "        \n",
    "        if self.dummy.next == None:\n",
    "            print(\"No paitent is in the queue\")\n",
    "        else:\n",
    "            print(f'{self.dummy.next.name} is served')\n",
    "            self.dummy.next = self.dummy.next.next\n",
    "            \n",
    "\n",
    "    def CancelAll(self):\n",
    "        self.dummy.next = None\n",
    "        print(\"All appointments are cancelled\")\n",
    "    \n",
    "    def CanDoctorGoHome(self):\n",
    "        if self.dummy.next == None:\n",
    "            return True\n",
    "        return False\n",
    "\n",
    "    def ShowAllPaitents(self):\n",
    "        \n",
    "        if self.dummy.next == None:\n",
    "            print(\"No paitent is in the queue\")\n",
    "        else:\n",
    "            current = self.dummy.next\n",
    "            while current != None:\n",
    "                print(current)\n",
    "                current = current.next"
   ]
  },
  {
   "cell_type": "code",
   "execution_count": 51,
   "metadata": {},
   "outputs": [
    {
     "name": "stdout",
     "output_type": "stream",
     "text": [
      "Paitent is registered\n",
      "Paitent is registered\n",
      "Paitent is registered\n",
      "Paitent is registered\n",
      "Paitent is registered\n",
      "Paitent is registered\n",
      "Paitent is registered\n",
      "ID: 1 Name: Junaid\n",
      "ID: 2 Name: Kafi\n",
      "ID: 3 Name: Ayon\n",
      "ID: 4 Name: Moin\n",
      "ID: 5 Name: Mahib\n",
      "ID: 6 Name: Likhon\n",
      "ID: 7 Name: IDK WHO\n",
      "Junaid is served\n",
      "Kafi is served\n",
      "Ayon is served\n",
      "False\n",
      "ID: 4 Name: Moin\n",
      "ID: 5 Name: Mahib\n",
      "ID: 6 Name: Likhon\n",
      "ID: 7 Name: IDK WHO\n",
      "All appointments are cancelled\n",
      "No paitent is in the queue\n",
      "True\n"
     ]
    }
   ],
   "source": [
    "#Hard Coded Test\n",
    "\n",
    "waitingRoom = WRM()\n",
    "\n",
    "waitingRoom.RegisterPaitent(1 , \"Junaid\" , 20 , \"A+\")\n",
    "waitingRoom.RegisterPaitent(2 , \"Kafi\" , 22 , \"B+\")\n",
    "waitingRoom.RegisterPaitent(3 , \"Ayon\" , 24 , \"AB+\")\n",
    "waitingRoom.RegisterPaitent(4 , \"Moin\" , 26 , \"O+\")\n",
    "waitingRoom.RegisterPaitent(5 , \"Mahib\" , 28 , \"A-\")\n",
    "waitingRoom.RegisterPaitent(6 , \"Likhon\" , 30 , \"B-\")\n",
    "waitingRoom.RegisterPaitent(7 , \"IDK WHO\" , 32 , \"AB-\")\n",
    "\n",
    "waitingRoom.ShowAllPaitents()\n",
    "\n",
    "waitingRoom.ServePaitent()\n",
    "waitingRoom.ServePaitent()\n",
    "waitingRoom.ServePaitent()\n",
    "\n",
    "print(waitingRoom.CanDoctorGoHome())\n",
    "\n",
    "waitingRoom.ShowAllPaitents()\n",
    "waitingRoom.CancelAll()\n",
    "waitingRoom.ShowAllPaitents()\n",
    "print(waitingRoom.CanDoctorGoHome())\n"
   ]
  },
  {
   "cell_type": "code",
   "execution_count": 4,
   "metadata": {},
   "outputs": [
    {
     "name": "stdout",
     "output_type": "stream",
     "text": [
      "1. Register Paitent\n",
      "2. Serve Paitent\n",
      "3. Cancel All\n",
      "4. Can Doctor Go Home\n",
      "5. Show All Paitents\n",
      "6. Exit\n"
     ]
    },
    {
     "ename": "ValueError",
     "evalue": "invalid literal for int() with base 10: ''",
     "output_type": "error",
     "traceback": [
      "\u001b[1;31m---------------------------------------------------------------------------\u001b[0m",
      "\u001b[1;31mValueError\u001b[0m                                Traceback (most recent call last)",
      "Cell \u001b[1;32mIn[4], line 12\u001b[0m\n\u001b[0;32m     10\u001b[0m \u001b[39mprint\u001b[39m(\u001b[39m\"\u001b[39m\u001b[39m5. Show All Paitents\u001b[39m\u001b[39m\"\u001b[39m)\n\u001b[0;32m     11\u001b[0m \u001b[39mprint\u001b[39m(\u001b[39m\"\u001b[39m\u001b[39m6. Exit\u001b[39m\u001b[39m\"\u001b[39m)\n\u001b[1;32m---> 12\u001b[0m choice \u001b[39m=\u001b[39m \u001b[39mint\u001b[39;49m(\u001b[39minput\u001b[39;49m(\u001b[39m\"\u001b[39;49m\u001b[39mEnter your choice: \u001b[39;49m\u001b[39m\"\u001b[39;49m))\n\u001b[0;32m     14\u001b[0m \u001b[39mif\u001b[39;00m choice \u001b[39m==\u001b[39m \u001b[39m1\u001b[39m:\n\u001b[0;32m     15\u001b[0m     __id \u001b[39m=\u001b[39m \u001b[39mint\u001b[39m(\u001b[39minput\u001b[39m(\u001b[39m\"\u001b[39m\u001b[39mEnter ID: \u001b[39m\u001b[39m\"\u001b[39m))\n",
      "\u001b[1;31mValueError\u001b[0m: invalid literal for int() with base 10: ''"
     ]
    }
   ],
   "source": [
    "# User Input Test\n",
    "\n",
    "waitingRoom = WRM()\n",
    "\n",
    "while True:\n",
    "    print(\"1. Register Paitent\")\n",
    "    print(\"2. Serve Paitent\")\n",
    "    print(\"3. Cancel All\")\n",
    "    print(\"4. Can Doctor Go Home\")\n",
    "    print(\"5. Show All Paitents\")\n",
    "    print(\"6. Exit\")\n",
    "    choice = int(input(\"Enter your choice: \"))\n",
    "\n",
    "    if choice == 1:\n",
    "        __id = int(input(\"Enter ID: \"))\n",
    "        __name = input(\"Enter Name: \")\n",
    "        __age = int(input(\"Enter Age: \"))\n",
    "        __bloodGroup = input(\"Enter Blood Group: \")\n",
    "        waitingRoom.RegisterPaitent(__id , __name , __age , __bloodGroup)\n",
    "    elif choice == 2:\n",
    "        waitingRoom.ServePaitent()\n",
    "    elif choice == 3:\n",
    "        waitingRoom.CancelAll()\n",
    "    elif choice == 4:\n",
    "        print(waitingRoom.CanDoctorGoHome())\n",
    "    elif choice == 5:\n",
    "        waitingRoom.ShowAllPaitents()\n",
    "    elif choice == 6:\n",
    "        break\n",
    "    else:\n",
    "        print(\"Invalid Choice\")"
   ]
  }
 ],
 "metadata": {
  "kernelspec": {
   "display_name": ".venv",
   "language": "python",
   "name": "python3"
  },
  "language_info": {
   "codemirror_mode": {
    "name": "ipython",
    "version": 3
   },
   "file_extension": ".py",
   "mimetype": "text/x-python",
   "name": "python",
   "nbconvert_exporter": "python",
   "pygments_lexer": "ipython3",
   "version": "3.11.4"
  },
  "orig_nbformat": 4
 },
 "nbformat": 4,
 "nbformat_minor": 2
}
