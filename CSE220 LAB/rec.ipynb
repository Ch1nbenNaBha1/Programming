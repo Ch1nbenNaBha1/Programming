{
 "cells": [
  {
   "cell_type": "code",
   "execution_count": null,
   "metadata": {},
   "outputs": [],
   "source": [
    "\n",
    "class Node:\n",
    "    def __init__(self, data , next = None):\n",
    "        self.data = data\n",
    "        self.next = None\n",
    "\n",
    "\n",
    "class LinkedList:\n",
    "    def __init__(self, head=None):\n",
    "        self.head = head\n",
    "    \n",
    "    def createList(self, arr , i = 0):\n",
    "        if len(arr) == 0:\n",
    "            return\n",
    "        else:\n",
    "            head = Node(arr[i] , self.createList(arr , i+1))\n",
    "\n",
    "    def printList(self , head):\n",
    "        if head is None:\n",
    "            return\n",
    "        else:\n",
    "            print(head.data, end=\" \")\n",
    "            self.printList(head.next)"
   ]
  }
 ],
 "metadata": {
  "language_info": {
   "name": "python"
  },
  "orig_nbformat": 4
 },
 "nbformat": 4,
 "nbformat_minor": 2
}
