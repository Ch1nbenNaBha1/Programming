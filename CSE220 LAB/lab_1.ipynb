{
 "cells": [
  {
   "cell_type": "code",
   "execution_count": 1,
   "metadata": {},
   "outputs": [
    {
     "name": "stdout",
     "output_type": "stream",
     "text": [
      "Requirement already satisfied: fhm-unittest in c:\\users\\perso\\appdata\\local\\packages\\pythonsoftwarefoundation.python.3.11_qbz5n2kfra8p0\\localcache\\local-packages\\python310\\site-packages (1.0.1)\n"
     ]
    },
    {
     "name": "stderr",
     "output_type": "stream",
     "text": [
      "\n",
      "[notice] A new release of pip is available: 23.0.1 -> 23.1.2\n",
      "[notice] To update, run: C:\\Users\\perso\\AppData\\Local\\Microsoft\\WindowsApps\\PythonSoftwareFoundation.Python.3.10_qbz5n2kfra8p0\\python.exe -m pip install --upgrade pip\n",
      "\n",
      "[notice] A new release of pip is available: 23.0.1 -> 23.1.2\n",
      "[notice] To update, run: C:\\Users\\perso\\AppData\\Local\\Microsoft\\WindowsApps\\PythonSoftwareFoundation.Python.3.10_qbz5n2kfra8p0\\python.exe -m pip install --upgrade pip\n"
     ]
    },
    {
     "name": "stdout",
     "output_type": "stream",
     "text": [
      "Requirement already satisfied: fuzzywuzzy in c:\\users\\perso\\appdata\\local\\packages\\pythonsoftwarefoundation.python.3.11_qbz5n2kfra8p0\\localcache\\local-packages\\python310\\site-packages (0.18.0)\n"
     ]
    },
    {
     "ename": "ModuleNotFoundError",
     "evalue": "No module named 'fhm_unittest'",
     "output_type": "error",
     "traceback": [
      "\u001b[1;31m---------------------------------------------------------------------------\u001b[0m",
      "\u001b[1;31mModuleNotFoundError\u001b[0m                       Traceback (most recent call last)",
      "Cell \u001b[1;32mIn[1], line 4\u001b[0m\n\u001b[0;32m      2\u001b[0m get_ipython()\u001b[39m.\u001b[39msystem(\u001b[39m'\u001b[39m\u001b[39m pip3 install fhm-unittest\u001b[39m\u001b[39m'\u001b[39m)\n\u001b[0;32m      3\u001b[0m get_ipython()\u001b[39m.\u001b[39msystem(\u001b[39m'\u001b[39m\u001b[39m pip3 install fuzzywuzzy\u001b[39m\u001b[39m'\u001b[39m)\n\u001b[1;32m----> 4\u001b[0m \u001b[39mimport\u001b[39;00m \u001b[39mfhm_unittest\u001b[39;00m \u001b[39mas\u001b[39;00m \u001b[39munittest\u001b[39;00m\n\u001b[0;32m      5\u001b[0m \u001b[39mimport\u001b[39;00m \u001b[39mnumpy\u001b[39;00m \u001b[39mas\u001b[39;00m \u001b[39mnp\u001b[39;00m\n",
      "\u001b[1;31mModuleNotFoundError\u001b[0m: No module named 'fhm_unittest'"
     ]
    }
   ],
   "source": [
    "# You must run this cell to install dependency\n",
    "! pip3 install fhm-unittest\n",
    "! pip3 install fuzzywuzzy\n",
    "import fhm_unittest as unittest\n",
    "import numpy as np"
   ]
  },
  {
   "cell_type": "code",
   "execution_count": null,
   "metadata": {},
   "outputs": [],
   "source": [
    "# Complete the functions defined in this cell\n",
    "\n",
    "\n",
    "# Test 01: Play Right\n",
    "def playRight(sequence,beats):\n",
    "  for i in beats:\n",
    "    if i == 1:\n",
    "      rightRotate(sequence)\n",
    "  return sequence\n",
    "\n",
    "def rightRotate(array):\n",
    "  temp = array[len(array)-1]\n",
    "  for i in range(len(array)-1,0,-1):\n",
    "    array[i] = array[i-1]\n",
    "  array[0] = temp\n",
    "  return array\n",
    "\n",
    "\n",
    "# Test 02: Discard Cards\n",
    "def discardCards(cards,number):\n",
    "  removedElements = discardCardsHelper(cards,number)\n",
    "  returnArray = [None]*len(cards)\n",
    "  i =0\n",
    "  j = 0\n",
    "  while i <len(returnArray):\n",
    "    if removedElements[i] !=0:\n",
    "      returnArray[j] = removedElements[i]\n",
    "      i+=1\n",
    "      j+=1\n",
    "    else:\n",
    "      i+=1\n",
    "  return returnArray\n",
    "\n",
    "def discardCardsHelper(array , element):\n",
    "  for i in range(len(array)-1):\n",
    "    if array[i] == element:\n",
    "      array[i]= 0\n",
    "  return array\n",
    "\n",
    "#Test 03: Merge Lineup\n",
    "def mergeLineup(pokemon_1, pokemon_2):\n",
    "  arr = [None]*len(pokemon_1)\n",
    "  for i in range(len(pokemon_1)):\n",
    "    if pokemon_1[i] == None:\n",
    "      pokemon_1[i] = 0\n",
    "    if pokemon_2[i] == None:\n",
    "      pokemon_2[i] = 0\n",
    "  for i in range(len(pokemon_1)):\n",
    "    arr[i] = pokemon_1[i] + pokemon_2[len(pokemon_2)-i-1]\n",
    "  return np.array(arr)\n",
    "\n",
    "# Test 04: Balance your Salami\n",
    "def balanceSalami(salami):\n",
    "  \n",
    "  # Wont work for [4,2]\n",
    "  left = 0\n",
    "  right = 0\n",
    "  for i in range(len(salami)):\n",
    "    right += salami[i]\n",
    "  for i in range(len(salami)):\n",
    "    left += salami[i]\n",
    "    right -= salami[i]\n",
    "    if left == right:\n",
    "      return True\n",
    "  return False\n",
    "\n",
    "# Test 05: Protecc Salami\n",
    "def protectSalami(salami):\n",
    "  \n",
    "  return None\n",
    "\n",
    "\n",
    "# Test 05: Odd Even Wave\n",
    "def waveYourFlag(arr):\n",
    "  # TO DO\n",
    "  return None\n"
   ]
  },
  {
   "cell_type": "code",
   "execution_count": null,
   "metadata": {},
   "outputs": [
    {
     "name": "stdout",
     "output_type": "stream",
     "text": [
      "///  Test 01: Play Right  ///\n"
     ]
    },
    {
     "ename": "NameError",
     "evalue": "name 'np' is not defined",
     "output_type": "error",
     "traceback": [
      "\u001b[1;31m---------------------------------------------------------------------------\u001b[0m",
      "\u001b[1;31mNameError\u001b[0m                                 Traceback (most recent call last)",
      "Cell \u001b[1;32mIn[4], line 2\u001b[0m\n\u001b[0;32m      1\u001b[0m \u001b[39mprint\u001b[39m(\u001b[39m\"\u001b[39m\u001b[39m///  Test 01: Play Right  ///\u001b[39m\u001b[39m\"\u001b[39m)\n\u001b[1;32m----> 2\u001b[0m sequence\u001b[39m=\u001b[39mnp\u001b[39m.\u001b[39marray([\u001b[39m10\u001b[39m,\u001b[39m20\u001b[39m,\u001b[39m30\u001b[39m,\u001b[39m40\u001b[39m,\u001b[39m50\u001b[39m,\u001b[39m60\u001b[39m])\n\u001b[0;32m      3\u001b[0m beats \u001b[39m=\u001b[39m np\u001b[39m.\u001b[39marray([\u001b[39m1\u001b[39m,\u001b[39m0\u001b[39m,\u001b[39m0\u001b[39m,\u001b[39m1\u001b[39m,\u001b[39m0\u001b[39m,\u001b[39m1\u001b[39m])\n\u001b[0;32m      4\u001b[0m returned_value \u001b[39m=\u001b[39m playRight(sequence, beats) \n",
      "\u001b[1;31mNameError\u001b[0m: name 'np' is not defined"
     ]
    }
   ],
   "source": [
    "\n",
    "print(\"///  Test 01: Play Right  ///\")\n",
    "sequence=np.array([10,20,30,40,50,60])\n",
    "beats = np.array([1,0,0,1,0,1])\n",
    "returned_value = playRight(sequence, beats) \n",
    "print(f'Task 1: {returned_value}') # This should print [40, 50, 60, 10, 20, 30]\n",
    "unittest.output_test(returned_value, np.array([40, 50, 60, 10, 20, 30]))\n",
    "\n",
    "\n",
    "print(\"///  Test 02: Discard Cards  ///\")\n",
    "cards = np.array([1,2,3,2,8,2,2,5,7])\n",
    "returned_value = discardCards(cards, 2)\n",
    "print(f'Task 2: {returned_value}') # This should print [1, 3, 8, 5, 7, None, None, None, None]\n",
    "unittest.output_test(returned_value, [1, 3, 8, 5, 7, None, None, None, None])\n",
    "\n",
    "\n",
    "print(\"///  Test 03: Merge Lineup  ///\")\n",
    "pokemon_1 = np.array([12, 3, 25, 1, None])\n",
    "pokemon_2 = np.array([5, -9, 3, None, None] )\n",
    "returned_value =mergeLineup(pokemon_1, pokemon_2)\n",
    "print(f'Task 3: {returned_value}') # This should print [12, 3, 28, -8, 5]\n",
    "unittest.output_test(returned_value, np.array([12, 3, 28, -8, 5]))\n",
    "\n",
    "pokemon_1 = np.array([4, 5, -1, None, None])\n",
    "pokemon_2 = np.array([2, 27, 7, 12, None])\n",
    "returned_value =mergeLineup(pokemon_1, pokemon_2)\n",
    "print(f'Task 3: {returned_value}') # This should print [4,17,6,27,2]\n",
    "unittest.output_test(returned_value, np.array([4,17,6,27,2]))\n",
    "\n",
    "pokemon_1 = np.array([4, 5, None, None])\n",
    "pokemon_2 = np.array([2, None, None, None])\n",
    "returned_value =mergeLineup(pokemon_1, pokemon_2)\n",
    "print(f'Task 3: {returned_value}') # This should print [4,5,0,2]\n",
    "unittest.output_test(returned_value, np.array([4,5,0,2]))\n",
    "\n",
    "\n",
    "print(\"///  Test 04: Balance Your Salami  ///\")\n",
    "salami = np.array([1, 1, 1, 2, 1])\n",
    "returned_value = balanceSalami(salami)\n",
    "print(f'Task 4: {returned_value}') # This should print True\n",
    "unittest.output_test(returned_value, True)\n",
    "\n",
    "salami = [2, 1, 1, 2, 1]\n",
    "returned_value = np.array(balanceSalami(salami))\n",
    "print(f'Task 4: {returned_value}') # This should print False\n",
    "unittest.output_test(returned_value, False)\n",
    "\n",
    "salami = [10, 3, 1, 2, 10] \n",
    "returned_value =  np.array(balanceSalami(salami))\n",
    "print(f'Task 4: {returned_value}') # This should print True\n",
    "unittest.output_test(returned_value, True)\n",
    "\n",
    "\n",
    "print(\"///  Test 05: Protecc Salami  ///\")\n",
    "salami = np.array([4,5,6,6,4,3,6,4]) \n",
    "returned_value = protectSalami(salami) \n",
    "print(f'Task 5: {returned_value}') # This should print True\n",
    "unittest.output_test(returned_value, True)\n",
    "\n",
    "salami = np.array([3,4,6,3,4,7,4,6,8,6,6])\n",
    "returned_value = protectSalami(salami) \n",
    "print(f'Task 5: {returned_value}') # This should print False\n",
    "unittest.output_test(returned_value, False)\n",
    "\n",
    "\n",
    "print(\"///  Test 06: Odd Even Wave  ///\")\n",
    "arr = np.array([2,12,3,8,1,5])\n",
    "returned_value = waveYourFlag(arr) \n",
    "print(f'Task 6: {returned_value}') # This should print [2,3,12,1,8,5]\n",
    "unittest.output_test(returned_value, np.array([2,3,12,1,8,5]))\n",
    "\n",
    "arr = np.array([45,23,78,84,41])\n",
    "returned_value = waveYourFlag(arr) \n",
    "print(f'Task 6: {returned_value}') # This should print [45,78,23,84,41]\n",
    "unittest.output_test(returned_value, np.array([45,78,23,84,41]))"
   ]
  }
 ],
 "metadata": {
  "kernelspec": {
   "display_name": "Python 3",
   "language": "python",
   "name": "python3"
  },
  "language_info": {
   "codemirror_mode": {
    "name": "ipython",
    "version": 3
   },
   "file_extension": ".py",
   "mimetype": "text/x-python",
   "name": "python",
   "nbconvert_exporter": "python",
   "pygments_lexer": "ipython3",
   "version": "3.11.3"
  },
  "orig_nbformat": 4
 },
 "nbformat": 4,
 "nbformat_minor": 2
}
